{
 "cells": [
  {
   "cell_type": "code",
   "execution_count": 19,
   "id": "461f1fdb",
   "metadata": {},
   "outputs": [],
   "source": [
    "import numpy as np\n",
    "import matplotlib.pyplot as plt"
   ]
  },
  {
   "cell_type": "code",
   "execution_count": 20,
   "id": "f677f2f3",
   "metadata": {},
   "outputs": [],
   "source": [
    "pvertices = np.array([[0.573, 0.797],\n",
    "                   [0.688, 0.402],\n",
    "                   [0.747, 0.238],\n",
    "                   [0.802, 0.426],\n",
    "                   [0.757, 0.796],\n",
    "                   [0.589, 0.811]])"
   ]
  },
  {
   "cell_type": "code",
   "execution_count": 21,
   "id": "abf2b840",
   "metadata": {},
   "outputs": [],
   "source": [
    "clist = [(0.7490863467660889, 0.4917635308023209),\n",
    "         (0.6814339441396109, 0.6199470305156477),\n",
    "         (0.7241617773773865, 0.6982813914515696),\n",
    "         (0.6600700275207232, 0.7516911829987891),\n",
    "         (0.6315848053622062, 0.7730550996176769),\n",
    "         (0.7348437356868305, 0.41342916986639894),\n",
    "         (0.7597683050755328, 0.31729154508140384)]"
   ]
  },
  {
   "cell_type": "code",
   "execution_count": 22,
   "id": "85b3a5d2",
   "metadata": {},
   "outputs": [],
   "source": [
    "pvertices = np.vstack([pvertices,pvertices[0]])"
   ]
  },
  {
   "cell_type": "code",
   "execution_count": 30,
   "id": "2836b7ba",
   "metadata": {},
   "outputs": [],
   "source": [
    "ph = matplotlib.patches.Polygon(pvertices)\n",
    "plt.show(ph)"
   ]
  },
  {
   "cell_type": "code",
   "execution_count": 28,
   "id": "c4597b69",
   "metadata": {},
   "outputs": [
    {
     "data": {
      "text/plain": [
       "<matplotlib.patches.Polygon at 0x110501730>"
      ]
     },
     "execution_count": 28,
     "metadata": {},
     "output_type": "execute_result"
    }
   ],
   "source": []
  },
  {
   "cell_type": "code",
   "execution_count": null,
   "id": "3bfd5264",
   "metadata": {},
   "outputs": [],
   "source": []
  }
 ],
 "metadata": {
  "kernelspec": {
   "display_name": "Python 3 (ipykernel)",
   "language": "python",
   "name": "python3"
  },
  "language_info": {
   "codemirror_mode": {
    "name": "ipython",
    "version": 3
   },
   "file_extension": ".py",
   "mimetype": "text/x-python",
   "name": "python",
   "nbconvert_exporter": "python",
   "pygments_lexer": "ipython3",
   "version": "3.9.7"
  }
 },
 "nbformat": 4,
 "nbformat_minor": 5
}
